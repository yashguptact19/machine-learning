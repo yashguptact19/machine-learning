{
  "nbformat": 4,
  "nbformat_minor": 0,
  "metadata": {
    "colab": {
      "name": "Untitled0.ipynb",
      "provenance": []
    },
    "kernelspec": {
      "name": "python3",
      "display_name": "Python 3"
    },
    "language_info": {
      "name": "python"
    }
  },
  "cells": [
    {
      "cell_type": "code",
      "execution_count": null,
      "metadata": {
        "id": "HdliTeg48kH1"
      },
      "outputs": [],
      "source": [
        ""
      ]
    },
    {
      "cell_type": "code",
      "source": [
        "# print all the number greater than equal to 50 and less than 100 for some range 1 to 1000\n",
        "[i for i in range(1,1001) if i >= 50 and i <=100] "
      ],
      "metadata": {
        "colab": {
          "base_uri": "https://localhost:8080/"
        },
        "id": "sd2mih2J-lQh",
        "outputId": "a0608b41-2cb8-4baa-cea3-b95075629206"
      },
      "execution_count": null,
      "outputs": [
        {
          "output_type": "execute_result",
          "data": {
            "text/plain": [
              "[50,\n",
              " 51,\n",
              " 52,\n",
              " 53,\n",
              " 54,\n",
              " 55,\n",
              " 56,\n",
              " 57,\n",
              " 58,\n",
              " 59,\n",
              " 60,\n",
              " 61,\n",
              " 62,\n",
              " 63,\n",
              " 64,\n",
              " 65,\n",
              " 66,\n",
              " 67,\n",
              " 68,\n",
              " 69,\n",
              " 70,\n",
              " 71,\n",
              " 72,\n",
              " 73,\n",
              " 74,\n",
              " 75,\n",
              " 76,\n",
              " 77,\n",
              " 78,\n",
              " 79,\n",
              " 80,\n",
              " 81,\n",
              " 82,\n",
              " 83,\n",
              " 84,\n",
              " 85,\n",
              " 86,\n",
              " 87,\n",
              " 88,\n",
              " 89,\n",
              " 90,\n",
              " 91,\n",
              " 92,\n",
              " 93,\n",
              " 94,\n",
              " 95,\n",
              " 96,\n",
              " 97,\n",
              " 98,\n",
              " 99,\n",
              " 100]"
            ]
          },
          "metadata": {},
          "execution_count": 2
        }
      ]
    },
    {
      "cell_type": "code",
      "source": [
        "# print the tabel of 5 from 1 to 30\n",
        "j = [ 5 * i for i in range (1,31)]\n",
        "print(j)"
      ],
      "metadata": {
        "colab": {
          "base_uri": "https://localhost:8080/"
        },
        "id": "bgKpiVYm_wzq",
        "outputId": "7dccc218-3097-431d-db74-c6944530784f"
      },
      "execution_count": null,
      "outputs": [
        {
          "output_type": "stream",
          "name": "stdout",
          "text": [
            "[5, 10, 15, 20, 25, 30, 35, 40, 45, 50, 55, 60, 65, 70, 75, 80, 85, 90, 95, 100, 105, 110, 115, 120, 125, 130, 135, 140, 145, 150]\n"
          ]
        }
      ]
    },
    {
      "cell_type": "code",
      "source": [
        "# print all the vowels in sentences \"i love csit department\"\n",
        "string1 = \"i love csit deparemtne\"\n",
        "j = [ i for i string1 in if i in [\"a\",\"e\",\"i\",\"o\",\"u\"] ]\n",
        "print (len(j))"
      ],
      "metadata": {
        "colab": {
          "base_uri": "https://localhost:8080/",
          "height": 131
        },
        "id": "SFmjml4dAZfh",
        "outputId": "773bd58e-eb84-4f41-f4c5-053537c177c3"
      },
      "execution_count": null,
      "outputs": [
        {
          "output_type": "error",
          "ename": "SyntaxError",
          "evalue": "ignored",
          "traceback": [
            "\u001b[0;36m  File \u001b[0;32m\"<ipython-input-9-364519445fe6>\"\u001b[0;36m, line \u001b[0;32m3\u001b[0m\n\u001b[0;31m    j = [ i for i string1 in if i in [\"a\",\"e\",\"i\",\"o\",\"u\"] ]\u001b[0m\n\u001b[0m                        ^\u001b[0m\n\u001b[0;31mSyntaxError\u001b[0m\u001b[0;31m:\u001b[0m invalid syntax\n"
          ]
        }
      ]
    },
    {
      "cell_type": "code",
      "source": [
        "#\"print all the keys in lower case if the value is greater than equal to 3000\n",
        "dict1 = { 1:\"one\", 10: \"ten\" }\n",
        "[ i.lower() for i in dict1 if dict1 [i]> = 1 ]"
      ],
      "metadata": {
        "colab": {
          "base_uri": "https://localhost:8080/",
          "height": 131
        },
        "id": "14ZcwYXdCN-Q",
        "outputId": "1998efc0-79c3-483a-8079-d4fadf24998e"
      },
      "execution_count": null,
      "outputs": [
        {
          "output_type": "error",
          "ename": "SyntaxError",
          "evalue": "ignored",
          "traceback": [
            "\u001b[0;36m  File \u001b[0;32m\"<ipython-input-10-293c7fd32aed>\"\u001b[0;36m, line \u001b[0;32m3\u001b[0m\n\u001b[0;31m    [ i.lower() for i in dict1 if dict1 [i]> = 1 ]\u001b[0m\n\u001b[0m                                             ^\u001b[0m\n\u001b[0;31mSyntaxError\u001b[0m\u001b[0;31m:\u001b[0m invalid syntax\n"
          ]
        }
      ]
    },
    {
      "cell_type": "code",
      "source": [
        "# for some range 1 to 1000 print even if no. is even or print odd\n",
        "[\"even\" if i%==0 else \"odd\" for i in range (1,1001)]"
      ],
      "metadata": {
        "colab": {
          "base_uri": "https://localhost:8080/",
          "height": 131
        },
        "id": "ObZktO2TEBtw",
        "outputId": "220ee113-132f-48f9-faa0-9aaed4fe11b5"
      },
      "execution_count": null,
      "outputs": [
        {
          "output_type": "error",
          "ename": "SyntaxError",
          "evalue": "ignored",
          "traceback": [
            "\u001b[0;36m  File \u001b[0;32m\"<ipython-input-11-b2e243e0518a>\"\u001b[0;36m, line \u001b[0;32m2\u001b[0m\n\u001b[0;31m    [\"even\" if i%==0 else \"odd\" for i in range (1,1001)]\u001b[0m\n\u001b[0m                 ^\u001b[0m\n\u001b[0;31mSyntaxError\u001b[0m\u001b[0;31m:\u001b[0m invalid syntax\n"
          ]
        }
      ]
    },
    {
      "cell_type": "code",
      "source": [
        ""
      ],
      "metadata": {
        "id": "6cM8yQYPDC09"
      },
      "execution_count": null,
      "outputs": []
    },
    {
      "cell_type": "code",
      "source": [
        "# to print all the numbers divisible by 2 in list\n",
        "list1 = [1,2,3,4,5]\n",
        "[i for i in list1 if i % 2 == 0] "
      ],
      "metadata": {
        "colab": {
          "base_uri": "https://localhost:8080/"
        },
        "id": "mRJ8J1SL9QOB",
        "outputId": "c95b8e50-d569-4dca-a4ca-6a2bcdfb6d86"
      },
      "execution_count": null,
      "outputs": [
        {
          "output_type": "execute_result",
          "data": {
            "text/plain": [
              "[2, 4]"
            ]
          },
          "metadata": {},
          "execution_count": 1
        }
      ]
    }
  ]
}